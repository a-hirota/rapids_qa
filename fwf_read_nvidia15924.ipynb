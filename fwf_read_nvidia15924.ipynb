{
 "cells": [
  {
   "cell_type": "code",
   "execution_count": 1,
   "id": "8745ec4e-d2e9-45d4-8261-ac023b1409b2",
   "metadata": {},
   "outputs": [],
   "source": [
    "import os\n",
    "import time\n",
    "import cudf\n",
    "import pandas as pd"
   ]
  },
  {
   "cell_type": "code",
   "execution_count": 2,
   "id": "89b02dd7-53d5-40cc-b9c0-b19a208b9910",
   "metadata": {},
   "outputs": [
    {
     "name": "stdout",
     "output_type": "stream",
     "text": [
      "Created 10m_data.txt with size 840000000 bytes\n"
     ]
    }
   ],
   "source": [
    "data = '''\\\n",
    "abcdef123456790.1234567abc           1234\n",
    "ABCDEF123456790.1234567abc           5678\n",
    "'''\n",
    "colspecs = [(0, 6), (6, 23), (23, 37), (37, 41)]\n",
    "\n",
    "original_file = 'data.txt'\n",
    "with open(original_file, 'w') as f:\n",
    "    f.write(data)\n",
    "\n",
    "# Amplify data\n",
    "multipliers = {\n",
    "   10000000: '10m_data.txt',\n",
    "}\n",
    "\n",
    "for multiplier, txt_file in multipliers.items():\n",
    "    with open(txt_file, 'wb') as outfile:\n",
    "        for _ in range(multiplier):\n",
    "            with open(original_file, 'rb') as infile:\n",
    "                outfile.write(infile.read())\n",
    "    print(f\"Created {txt_file} with size {os.path.getsize(txt_file)} bytes\")   \n"
   ]
  },
  {
   "cell_type": "markdown",
   "id": "ff73e8b6-c32f-4b66-8f7f-9e25233e3c07",
   "metadata": {},
   "source": [
    "## CPU"
   ]
  },
  {
   "cell_type": "code",
   "execution_count": 3,
   "id": "8a1a3b5c-3121-4a7f-b7c3-24cd7ff7b2bb",
   "metadata": {
    "scrolled": true
   },
   "outputs": [
    {
     "name": "stdout",
     "output_type": "stream",
     "text": [
      "10m_data.txt: read_csv time = 3.3388 seconds\n",
      "10m_data.txt: last position slice time = 3.4968 seconds\n"
     ]
    }
   ],
   "source": [
    "for txt_file in multipliers.values():\n",
    "    start_time = time.time()\n",
    "    cpu_df = pd.read_csv(txt_file, header=None, names=[\"record\"], dtype={\"record\": \"string\"}, index_col=False)\n",
    "    end_time = time.time()\n",
    "    read_time = end_time-start_time\n",
    "    print(f\"{txt_file}: read_csv time = {read_time:.4f} seconds\")\n",
    "\n",
    "    start_time = time.time()\n",
    "    cpu_df[\"record_int\"] = cpu_df[\"record\"].str.slice(*colspecs[3]).astype('int64') \n",
    "    end_time = time.time()\n",
    "    slice_time = end_time-start_time\n",
    "    print(f\"{txt_file}: last position slice time = {slice_time:.4f} seconds\")    \n"
   ]
  },
  {
   "cell_type": "markdown",
   "id": "ccd4c54c-175f-4f89-a3a2-890caf5b470f",
   "metadata": {},
   "source": [
    "## GPU"
   ]
  },
  {
   "cell_type": "code",
   "execution_count": 6,
   "id": "49849f50-5c64-472a-8316-d44e1234c861",
   "metadata": {},
   "outputs": [
    {
     "name": "stdout",
     "output_type": "stream",
     "text": [
      "10m_data.txt: read_text(cuda) time = 0.4959 seconds\n",
      "10m_data.txt: last position slice time = 3.5090 seconds\n"
     ]
    }
   ],
   "source": [
    "for txt_file in multipliers.values():\n",
    "    start_time = time.time()\n",
    "    gpu_series = cudf.read_text(txt_file, delimiter='\\n')\n",
    "    end_time = time.time()\n",
    "    read_time = end_time-start_time\n",
    "    print(f\"{txt_file}: read_text(cuda) time = {read_time:.4f} seconds\")\n",
    "\n",
    "    start_time = time.time()\n",
    "    cpu_df[\"record_int\"] = cpu_df[\"record\"].str.slice(*colspecs[3]).astype('int64') \n",
    "    end_time = time.time()\n",
    "    slice_time = end_time-start_time\n",
    "    print(f\"{txt_file}: last position slice time = {slice_time:.4f} seconds\")   "
   ]
  },
  {
   "cell_type": "code",
   "execution_count": null,
   "id": "c53ecde2-6eb9-40b7-895d-9c39158832de",
   "metadata": {},
   "outputs": [],
   "source": []
  }
 ],
 "metadata": {
  "kernelspec": {
   "display_name": "Python 3 (ipykernel)",
   "language": "python",
   "name": "python3"
  },
  "language_info": {
   "codemirror_mode": {
    "name": "ipython",
    "version": 3
   },
   "file_extension": ".py",
   "mimetype": "text/x-python",
   "name": "python",
   "nbconvert_exporter": "python",
   "pygments_lexer": "ipython3",
   "version": "3.11.9"
  }
 },
 "nbformat": 4,
 "nbformat_minor": 5
}
